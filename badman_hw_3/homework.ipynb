{
 "cells": [
  {
   "cell_type": "markdown",
   "metadata": {},
   "source": [
    "# Interaction with the World Homework (#3)\n",
    "Python Computing for Data Science (c) J Bloom, UC Berkeley 2018\n",
    "\n",
    "Due Tuesday 2pm, Feb 20, 2018"
   ]
  },
  {
   "cell_type": "markdown",
   "metadata": {},
   "source": [
    "# 1) Monty: The Python Siri\n",
    "\n",
    "Let's make a Siri-like program (call it Monty!) with the following properties:\n",
    "   - record your voice command\n",
    "   - use a webservice to parse that sound file into text\n",
    "   - based on what the text, take three different types of actions:\n",
    "       - send an email to yourself\n",
    "       - do some math\n",
    "       - tell a joke\n",
    "\n",
    "So for example, if you say \"Monty: email me with subject hello and body goodbye\", it will email you with the appropriate subject and body. If you say \"Monty: tell me a joke\" then it will go to the web and find a joke and print it for you. If you say, \"Monty: calculate two times three\" it should response with printing the number 6.\n",
    "\n",
    "Hint: you can use speed-to-text apps like Houndify (or, e.g., Google Speech https://cloud.google.com/speech/) to return the text (but not do the actions). You'll need to sign up for a free API and then follow documentation instructions for using the service within Python. "
   ]
  },
  {
   "cell_type": "markdown",
   "metadata": {},
   "source": [
    "__Comment__\n",
    "\n",
    "I have pushed a file 'credentials.py' into the repo with fields to enter (all fields should be strings in quotation marks) :\n",
    "\n",
    "*Email Address For Monty email command*\n",
    "\n",
    "email_add = your email address (hostname,portname assumes GMAIL)\n",
    "\n",
    "email_pwd = your email password  \n",
    "\n",
    "*API Key for Houndify to perform speech to text computation*\n",
    "\n",
    "api_id = your houndify api id\n",
    "\n",
    "api_key = your houndify api key\n",
    "\n",
    "To get the email task to work, I had to allow \"less-secure applications\" to access my google account. When I ran the email task initially, I got a notification on my gmail which had the option to allow this.\n",
    "\n",
    "__Code Structure__\n",
    "\n",
    "I wrote a class called Monty, which has methods:\n",
    "\n",
    "* record2wav : to listen on the microphone for 5 sec and writes a .wav file\n",
    "\n",
    "* speech2txt : which feeds the .wav file into houndify and returns an ordered list of words detected by houndify\n",
    "\n",
    "* query : which looks at the list of words and determines if the words email, calculate or joke were present in the query and calls the corresponding method\n",
    "\n",
    "* email, math and joke which respectively carry out the tasks asked to be done in the problem\n",
    "\n",
    "* run - this calls the above methods in order, so a user can operate monty as is given in the second cell below\n",
    "\n",
    "```python\n",
    ">>> m = Monty()\n",
    ">>> m.run()\n",
    "```\n",
    "\n",
    "__Audio Instructions__\n",
    "\n",
    "The **email** command requires the word \"email\", followed by the word \"subject\" followed by the text of the subject followed by the word \"message\" followed by the text of the email\n",
    "\n",
    "The **math** command requires the input: \"calculate\" ::number one:: ::operator:: ::number two::, the numbers must be between zero and 20 (i.e. single words) and the possible operators are \"plus\", \"add\", \"minus\",\"subtract\",\"times\" and \"over\"\n",
    "\n",
    "The **joke** command just requires the word \"joke\" be in the put.\n"
   ]
  },
  {
   "cell_type": "code",
   "execution_count": 5,
   "metadata": {},
   "outputs": [],
   "source": [
    "import pyaudio, wave,time, smtplib, random\n",
    "from credentials import *\n",
    "from houndify_sdk import houndify\n",
    "from bs4 import BeautifulSoup\n",
    "from urllib.request import urlopen\n",
    "\n",
    "# Houndify listener class\n",
    "class MyListener(houndify.HoundListener):\n",
    "  def onPartialTranscript(self, transcript):\n",
    "    return\n",
    "  def onFinalResponse(self, response):\n",
    "    return\n",
    "  def onError(self, err):\n",
    "    print(\"Error: \" + str(err))\n",
    "\n",
    "class Monty():\n",
    "    def __init__(self) :\n",
    "        # Set up API credentials for Houndify\n",
    "        self.id = api_id\n",
    "        self.key = api_key\n",
    "        # Default .wav file for speech2txt if not provided\n",
    "        self.fname = './raw.wav'\n",
    "        self.num_dict = {'one':1,'two':2,'three':3,'four':4,'five':5,'six':6,'seven':7,'eight':8,'nine':9,'ten':10,\n",
    "                         'eleven':11, 'twelve':12, 'thirteen':13,'fourteen':14,'fifteen':15,'sixteen':16,'seventeen':17,\n",
    "                         'eighteen':18, 'nineteen':19, 'twenty': 20, 'zero':0}\n",
    "        # Set up email account and password for use of monty sending an email\n",
    "        self.email_add = email_add\n",
    "        self.email_pwd = email_pwd\n",
    "        \n",
    "    def record2wav(self) :\n",
    "        # Tweaked from the audio notebook from class.\n",
    "        print('Monty! is listening...')\n",
    "        # Access microphone and append received data\n",
    "        chunk = 512\n",
    "        CHANNELS = 1\n",
    "        RATE = 16000\n",
    "        RECORD_SECONDS = 5\n",
    "        WAVE_OUTPUT_FILENAME = \"raw.wav\"\n",
    "        p = pyaudio.PyAudio()\n",
    "        stream = p.open(format = p.get_format_from_width(2),\n",
    "            channels = CHANNELS,\n",
    "            rate = RATE,\n",
    "            input = True,\n",
    "            frames_per_buffer = chunk)\n",
    "        all = []\n",
    "        for i in range(0, int(RATE / chunk * RECORD_SECONDS)):\n",
    "            data = stream.read(chunk)\n",
    "            all.append(data)\n",
    "        print(\"Monty! is done recording, thinking...\")\n",
    "        stream.close()\n",
    "        p.terminate\n",
    "        data = b\"\".join(all)\n",
    "        # Write data from microphone into a .wav file called \"raw.wav\"\n",
    "        wf = wave.open(WAVE_OUTPUT_FILENAME, \"wb\")\n",
    "        wf.setnchannels(CHANNELS)\n",
    "        wf.setsampwidth(2)\n",
    "        wf.setframerate(RATE)\n",
    "        wf.writeframes(data)\n",
    "        wf.close()\n",
    "        self.fname = WAVE_OUTPUT_FILENAME\n",
    "        return\n",
    "\n",
    "    def speech2txt(self) :\n",
    "        # Send .wav file to a Houndify API client and return the parsed speech to text\n",
    "        client = houndify.StreamingHoundClient(self.id,self.key, \"test_user\")\n",
    "        audio = wave.open(self.fname)\n",
    "        if audio.getsampwidth() != 2:\n",
    "          print(\"%s: wrong sample width (must be 16-bit)\" % self.fname)\n",
    "          print(str(audio.getsampwidth()))\n",
    "        if audio.getframerate() != 8000 and audio.getframerate() != 16000:\n",
    "          print(\"%s: unsupported sampling frequency (must be either 8 or 16 khz)\" % self.fname)\n",
    "        if audio.getnchannels() != 1:\n",
    "          print(\"%s: must be single channel (mono)\" % self.fname)\n",
    "        client.setSampleRate(audio.getframerate())\n",
    "        client.start(MyListener())\n",
    "        while True:\n",
    "          samples = audio.readframes(512)\n",
    "          if len(samples) == 0: break\n",
    "          if client.fill(samples): break\n",
    "        return client.finish()\n",
    "    \n",
    "    def query(self) :\n",
    "        # Take results of houndify query and split into a list of individual words.\n",
    "        # Based on presences of words 'email', 'calculate' or 'joke', call a relevant method\n",
    "        result = self.speech2txt()\n",
    "        raw_string = result.get('AllResults')[0].get('RawTranscription')\n",
    "        words = raw_string.split(\" \")\n",
    "        print('Interpreted input: '+raw_string)\n",
    "        if 'email' in words : \n",
    "            print('Monty will send you an email')\n",
    "            self.email(words)\n",
    "        elif 'calculate' in words :\n",
    "            print('Monty will do math for you')\n",
    "            self.math(words)\n",
    "        elif 'joke' in words :\n",
    "            print('Monty will send you a joke')\n",
    "            self.joke()\n",
    "        else : \n",
    "            print(\"Your query wasn't recognized, please try again!\")\n",
    "            \n",
    "    \n",
    "    def email(self, words) :\n",
    "        #Send an email with the subject line composed of words after \"subject\", and the body\n",
    "        # of the email composed of words after \"message\"\n",
    "        ind_s = words.index(\"subject\")\n",
    "        ind_m = words.index(\"message\")\n",
    "        #Build Message\n",
    "        FROM = self.email_add\n",
    "        TO = self.email_add\n",
    "        SUBJECT = ' '.join(words[ind_s+1:ind_m])\n",
    "        BODY = ' '.join(words[ind_m+1:])\n",
    "        MSG = \"\\r\\n\".join([\"From: \"+FROM,\"To: \"+TO,\"Subject: \"+SUBJECT,\n",
    "                           \"\",BODY]) \n",
    "        #initialize email server on gmail\n",
    "        try:\n",
    "            s = smtplib.SMTP('smtp.gmail.com:587')\n",
    "            s.ehlo()\n",
    "            s.starttls()\n",
    "            s.login(self.email_add,self.email_pwd)\n",
    "            s.sendmail(FROM,TO,MSG)\n",
    "            s.close()\n",
    "            print('I successfully sent an email to '+self.email_add)\n",
    "        except:\n",
    "            print(\"I couldn't send an email...\")\n",
    "        return\n",
    "    \n",
    "    def math(self, words) :\n",
    "        # Input string is assumed to contain \"calculate\" \"number\" \"operation\" \"number\"\n",
    "        # This math operation is carried out and printed to the screen.\n",
    "        ind = words.index(\"calculate\")\n",
    "        x = self.num_dict.get(words[ind+1])\n",
    "        y = self.num_dict.get(words[ind+3])\n",
    "        if words[ind+2] == \"add\" or words[ind+2] == \"plus\" :\n",
    "            print(str(x)+' + '+str(y)+' = '+str(x+y))\n",
    "        elif words[ind+2] == \"subtract\" or words[ind+2]== \"minus\" : \n",
    "            print(str(x)+' - '+str(y)+' = '+str(x-y))\n",
    "        elif words[ind+2] == \"times\" : \n",
    "            print(str(x)+' x '+str(y)+' = '+str(x*y))\n",
    "        elif words[ind+2] == \"over\" :\n",
    "            print(str(x)+' / '+str(y)+' = '+str(x/y))  \n",
    "        else : print('Operation : '+words[ind+2]+' not recongnized')\n",
    "        return\n",
    "    \n",
    "    def joke(self) :\n",
    "        # punoftheday website is accessed, top 10 jokes of the day accessed and then one is\n",
    "        # randomly selected and printed to screen.\n",
    "        response = urlopen(\"http://www.punoftheday.com/cgi-bin/disppuns.pl?ord=F\")\n",
    "        html = response.read()\n",
    "        response.close()\n",
    "        soup = BeautifulSoup(html,\"html.parser\")\n",
    "        cols = soup.findAll('td')\n",
    "        joke_list = []\n",
    "        for col in cols : \n",
    "            if col.get(\"colspan\") == \"2\" : joke_list.append(col.contents[0])\n",
    "        joke_ind = random.randint(0,len(joke_list))\n",
    "        print(\"Here is a joke for you : \")\n",
    "        print(\"\")\n",
    "        print(joke_list[joke_ind])\n",
    "        return \n",
    "    \n",
    "    def run(self) :\n",
    "        print(\"Hello, I'm Monty! I can listen to you speak and do some actions based on what you say: \")\n",
    "        print('')\n",
    "        print('1 : Send an email')\n",
    "        print('If you command: \\'Monty, send me an email with subject <text>, body <text> \\' ')\n",
    "        print('I will send you an email with the text following the \\'head\\' as the subject, and text following')\n",
    "        print('\\'message\\' as the content ')\n",
    "        print('')\n",
    "        print('2 : Do math on numbers 0-20 (addition, subtraction, division and multiplication)')\n",
    "        print('If you command: \\'Monty, calculate <number> <operation> <number> \\' ')\n",
    "        print('I will do the operation for you and print the answer.')\n",
    "        print(' For operations, you have the choice of :')\n",
    "        print(' Add: say \\'add\\' or \\'plus\\'')\n",
    "        print(' Subtract: say \\'subtract\\' or \\'minus\\'')\n",
    "        print(' Multiply: say \\'times\\'')\n",
    "        print(' Divide: say \\'over\\'')\n",
    "        print('')\n",
    "        print('3 : Tell me a joke')\n",
    "        print('Finally, if you command \\' Monty, tell me a joke\\' ')\n",
    "        print('I will look up a joke on the internet and print it for you.')\n",
    "        print('')\n",
    "        input(\"Press Enter when you're ready to speak!\")\n",
    "        self.record2wav()\n",
    "        self.query()\n",
    "        return"
   ]
  },
  {
   "cell_type": "code",
   "execution_count": 3,
   "metadata": {
    "scrolled": true
   },
   "outputs": [
    {
     "name": "stdout",
     "output_type": "stream",
     "text": [
      "Hello, I'm Monty! I can listen to you speak and do some actions based on what you say: \n",
      "\n",
      "1 : Send an email\n",
      "If you command: 'Monty, send me an email with subject <text>, body <text> ' \n",
      "I will send you an email with the text following the 'head' as the subject, and text following\n",
      "'message' as the content \n",
      "\n",
      "2 : Do math on numbers 0-20 (addition, subtraction, division and multiplication)\n",
      "If you command: 'Monty, calculate <number> <operation> <number> ' \n",
      "I will do the operation for you and print the answer.\n",
      " For operations, you have the choice of :\n",
      " Add: say 'add' or 'plus'\n",
      " Subtract: say 'subtract' or 'minus'\n",
      " Multiply: say 'times'\n",
      " Divide: say 'over'\n",
      "\n",
      "3 : Tell me a joke\n",
      "Finally, if you command ' Monty, tell me a joke' \n",
      "I will look up a joke on the internet and print it for you.\n",
      "\n",
      "Press Enter when you're ready to speak!\n",
      "Monty! is listening...\n",
      "Monty! is done recording, thinking...\n",
      "Interpreted input: tell me a joke\n",
      "Monty will send you a joke\n",
      "Here is a joke for you : \n",
      "I'd tell you a chemistry joke but I know I wouldn't get a reaction.\n"
     ]
    }
   ],
   "source": [
    "m = Monty()\n",
    "m.run()"
   ]
  },
  {
   "cell_type": "markdown",
   "metadata": {},
   "source": [
    "# 2) Write a program that identifies musical notes from sound (AIFF) files. \n",
    "\n",
    "  - Run it on the supplied sound files (12) and report your program’s results. \n",
    "  - Use the labeled sounds (4) to make sure it works correctly. The provided sound files contain 1-3 simultaneous notes from different organs.\n",
    "  - Save copies of any example plots to illustrate how your program works.\n",
    "  \n",
    "  https://piazza.com/berkeley/spring2018/ay250class13410/resources -> Homeworks -> hw3_sound_files.zip"
   ]
  },
  {
   "cell_type": "markdown",
   "metadata": {},
   "source": [
    "Hints: You’ll want to decompose the sound into a frequency power spectrum. Use a Fast Fourier Transform. Be care about “unpacking” the string hexcode into python data structures. The sound files use 32 bit data. Play around with what happens when you convert the string data to other integer sizes, or signed vs unsigned integers. Also, beware of harmonics."
   ]
  },
  {
   "cell_type": "markdown",
   "metadata": {},
   "source": [
    "__Comment__\n",
    "\n",
    "To work, this code requires the .aif sound files be located in './sound_files/' from the top level of this repo\n",
    "\n",
    "Below I define all the functions I will use to pull out notes from a .aif sound file."
   ]
  },
  {
   "cell_type": "code",
   "execution_count": 133,
   "metadata": {},
   "outputs": [],
   "source": [
    "%matplotlib inline\n",
    "import aifc, math, glob\n",
    "import numpy as np\n",
    "import matplotlib.pyplot as plt\n",
    "from scipy.signal import find_peaks_cwt \n",
    "\n",
    "# Populate Dict with key numbers to notes (440Hz = A4)\n",
    "# http://www.sengpielaudio.com/calculator-notenames.htm\n",
    "N = 88 # Number of keys on a standard piano\n",
    "octv = ['A','As','B','C','Cs','D','Ds','E','F','Fs','G','Gs']\n",
    "note_dict = {}\n",
    "note_dict_rev = {}\n",
    "for i in range(N) :\n",
    "    octave = int((i+9)/12) \n",
    "    note = octv[i - octave*12]\n",
    "    note_dict.update({i+1:note+str(octave)})\n",
    "    note_dict_rev.update({note+str(octave):i+1})\n",
    "\n",
    "# Function to produce piano key number from given frequency in Hz\n",
    "def freq2n(f_Hz) :\n",
    "    # https://en.wikipedia.org/wiki/Piano_key_frequencies\n",
    "    return 49 + int(round(12 * math.log(f_Hz/440,2)))\n",
    "\n",
    "# Function which opens a .aif file, pulls out the time series from the bytestring\n",
    "# performs an FFT and returns the spectrum and frequencies in Hz\n",
    "def get_spec(fname) :\n",
    "    audio = aifc.open(fname)\n",
    "    nchannels = audio.getnchannels()\n",
    "    sampwidth = audio.getsampwidth()\n",
    "    framerate = audio.getframerate()\n",
    "    nframes   = audio.getnframes()\n",
    "    audio_arr = np.fromstring(audio.readframes(int(nframes)),np.int32).byteswap()\n",
    "    #Combine Channels\n",
    "    audio_arr_ch1 = audio_arr[::2]\n",
    "    audio_arr_ch2 = audio_arr[1::2]\n",
    "    audio_arr = audio_arr_ch1 + audio_arr_ch2\n",
    "    audio_spec = np.abs(np.fft.rfft(audio_arr))\n",
    "    # For frame time cadence should use 2/framerate because every other\n",
    "    # frame switches channel.\n",
    "    freqs = np.fft.rfftfreq(audio_arr.size,2/framerate)\n",
    "    # Remove any f=0 signal from spectra\n",
    "    return freqs[100:],audio_spec[100:]\n",
    "\n",
    "        \n",
    "# Convert each peak frequency into a note\n",
    "def get_notes(freqs,spectrum,alpha=0.5) :\n",
    "    peak_candidate_indices = np.where(spectrum >= alpha*max(spectrum))\n",
    "    peak_candidates = freqs[peak_candidate_indices]\n",
    "    notes = []\n",
    "    for f in peak_candidates : \n",
    "        n = freq2n(f)\n",
    "        if n >= 1 : notes.append(note_dict.get(n)) \n",
    "    # Remove repeats by converting to set and back\n",
    "    notes = list(set(notes))\n",
    "    # Search list of notes and remove harmonics, and repeats\n",
    "    for note in notes : \n",
    "        n = note_dict_rev.get(note)\n",
    "        if note_dict.get(n+12) in notes : notes = [x for x in notes if x != note_dict.get(n+12)]\n",
    "    return notes"
   ]
  },
  {
   "cell_type": "markdown",
   "metadata": {},
   "source": [
    "__Comment__\n",
    "\n",
    "Now I step through one of the test organ files with known notes to show how this works."
   ]
  },
  {
   "cell_type": "code",
   "execution_count": 121,
   "metadata": {},
   "outputs": [
    {
     "data": {
      "text/plain": [
       "Text(0.5,1,'./sound_files/C4+A4_PopOrgan.aif')"
      ]
     },
     "execution_count": 121,
     "metadata": {},
     "output_type": "execute_result"
    },
    {
     "data": {
      "image/png": "[encoded data removed]",
      "text/plain": [
       "<matplotlib.figure.Figure at 0x7fc104563f98>"
      ]
     },
     "metadata": {},
     "output_type": "display_data"
    }
   ],
   "source": [
    "# Choose the C4+A4 file.\n",
    "fname = './sound_files/C4+A4_PopOrgan.aif'\n",
    "# Read in the file, convert to numpy arrays\n",
    "# f is the list of frequency values\n",
    "# s is the list of spectrum values at the corresponding frequency\n",
    "f,s = get_spec(fname)\n",
    "# To identify peaks, I threshold the spectrum at some fraction of the peak value\n",
    "# and keep only date points above these thresholds which tend to be narrowly\n",
    "# clustered on the peaks (i.e. they all give the same note)\n",
    "alpha = 0.5\n",
    "ind_thresh = np.where(s >= alpha*max(s))\n",
    "f_filt = f[ind_thresh]\n",
    "s_filt = s[ind_thresh]\n",
    "# Plot the spectrum and thresholded data points to illustrate the clustering\n",
    "plt.plot(f,s)\n",
    "plt.scatter(f_filt,s_filt)\n",
    "plt.xlabel('Frequency / Hz')\n",
    "plt.ylabel('Spectral Power')\n",
    "plt.title(fname)"
   ]
  },
  {
   "cell_type": "code",
   "execution_count": 123,
   "metadata": {},
   "outputs": [
    {
     "name": "stdout",
     "output_type": "stream",
     "text": [
      "Notes in filtered data :\n",
      "['C4', 'C4', 'C4', 'A4', 'A4', 'A4', 'C5', 'C5', 'C5']\n",
      "\n",
      "Unique Notes :\n",
      "['C4', 'A4', 'C5']\n",
      "\n",
      "Fundamental Notes :\n",
      "['C4', 'A4']\n"
     ]
    }
   ],
   "source": [
    "# The following steps are implemented within get_notes() above\n",
    "\n",
    "# This filtered list of frequencies is then converted to notes:\n",
    "notes = []\n",
    "for freq in f_filt : notes.append(note_dict.get(freq2n(freq)))\n",
    "print('Notes in filtered data :')\n",
    "print(notes)\n",
    "print()\n",
    "\n",
    "# Repeats are removed by calling a set\n",
    "notes = list(set(notes))\n",
    "print('Unique Notes :')\n",
    "print(notes)\n",
    "print()\n",
    "\n",
    "# Harmonics are removed by removing notes_dict entries which are 12 keys apart\n",
    "for note in notes : \n",
    "        n = note_dict_rev.get(note)\n",
    "        if note_dict.get(n+12) in notes : notes = [x for x in notes if x != note_dict.get(n+12)]\n",
    "print('Fundamental Notes :')\n",
    "print(notes)\n",
    "            "
   ]
  },
  {
   "cell_type": "markdown",
   "metadata": {},
   "source": [
    "Now loop through the test files to check agreement"
   ]
  },
  {
   "cell_type": "code",
   "execution_count": 120,
   "metadata": {},
   "outputs": [
    {
     "name": "stdout",
     "output_type": "stream",
     "text": [
      "For test file : ./sound_files/C4+A4_PopOrgan.aif the fundamental distinct notes played are :\n",
      "['C4', 'A4']\n",
      "\n",
      "For test file : ./sound_files/A4_PopOrgan.aif the fundamental distinct notes played are :\n",
      "['A4']\n",
      "\n",
      "For test file : ./sound_files/F4_CathedralOrgan.aif the fundamental distinct notes played are :\n",
      "['F5']\n",
      "\n",
      "For test file : ./sound_files/F3_PopOrgan.aif the fundamental distinct notes played are :\n",
      "['C5', 'F3']\n",
      "\n"
     ]
    }
   ],
   "source": [
    "test_fnames = glob.glob('./sound_files/*Organ.aif')\n",
    "\n",
    "for fname in test_fnames :\n",
    "    f,s = get_spec(fname)\n",
    "    notes = get_notes(f,s)\n",
    "    print('For test file : '+fname+' the fundamental distinct notes played are :')\n",
    "    print(notes)\n",
    "    print()"
   ]
  },
  {
   "cell_type": "markdown",
   "metadata": {},
   "source": [
    "We see this works for the first two correctly, for the last one it picks up the correct fundamental and has also found another resonating note not listed in the test aname.\n",
    "\n",
    "For the third entry, we have picked up the first harmonic rather than the fundamental. We can examine this entry more closely. We find we have to lower the threshold to pick up the fundamental (left most peak) which is very weak."
   ]
  },
  {
   "cell_type": "code",
   "execution_count": 128,
   "metadata": {},
   "outputs": [
    {
     "data": {
      "text/plain": [
       "Text(0.5,1,'./sound_files/F4_CathedralOrgan.aif')"
      ]
     },
     "execution_count": 128,
     "metadata": {},
     "output_type": "execute_result"
    },
    {
     "data": {
      "image/png": "[encoded data removed]",
      "text/plain": [
       "<matplotlib.figure.Figure at 0x7fc10472d550>"
      ]
     },
     "metadata": {},
     "output_type": "display_data"
    }
   ],
   "source": [
    "# Choose the F4 file.\n",
    "fname = './sound_files/F4_CathedralOrgan.aif'\n",
    "# Read in the file, convert to numpy arrays\n",
    "# f is the list of frequency values\n",
    "# s is the list of spectrum values at the corresponding frequency\n",
    "f,s = get_spec(fname)\n",
    "# To identify peaks, I threshold the spectrum at some fraction of the peak value\n",
    "# and keep only date points above these thresholds which tend to be narrowly\n",
    "# clustered on the peaks (i.e. they all give the same note)\n",
    "alpha = 0.25\n",
    "ind_thresh = np.where(s >= alpha*max(s))\n",
    "f_filt = f[ind_thresh]\n",
    "s_filt = s[ind_thresh]\n",
    "# Plot the spectrum and thresholded data points to illustrate the clustering\n",
    "plt.plot(f,s)\n",
    "plt.scatter(f_filt,s_filt)\n",
    "plt.xlabel('Frequency / Hz')\n",
    "plt.ylabel('Spectral Power')\n",
    "plt.title(fname)"
   ]
  },
  {
   "cell_type": "markdown",
   "metadata": {},
   "source": [
    "Analyzing these notes : "
   ]
  },
  {
   "cell_type": "code",
   "execution_count": 129,
   "metadata": {},
   "outputs": [
    {
     "name": "stdout",
     "output_type": "stream",
     "text": [
      "Notes in filtered data :\n",
      "['F4', 'F5', 'F5', 'F5', 'C6', 'C6', 'A6', 'C7', 'Ds7']\n",
      "\n",
      "Unique Notes :\n",
      "['F5', 'F4', 'C7', 'Ds7', 'A6', 'C6']\n",
      "\n",
      "Fundamental Notes :\n",
      "['F4', 'Ds7', 'A6', 'C6']\n"
     ]
    }
   ],
   "source": [
    "# The following steps are implemented within get_notes() above\n",
    "\n",
    "# This filtered list of frequencies is then converted to notes:\n",
    "notes = []\n",
    "for freq in f_filt : notes.append(note_dict.get(freq2n(freq)))\n",
    "print('Notes in filtered data :')\n",
    "print(notes)\n",
    "print()\n",
    "\n",
    "# Repeats are removed by calling a set\n",
    "notes = list(set(notes))\n",
    "print('Unique Notes :')\n",
    "print(notes)\n",
    "print()\n",
    "\n",
    "# Harmonics are removed by removing notes_dict entries which are 12 keys apart\n",
    "for note in notes : \n",
    "        n = note_dict_rev.get(note)\n",
    "        if note_dict.get(n+12) in notes : notes = [x for x in notes if x != note_dict.get(n+12)]\n",
    "print('Fundamental Notes :')\n",
    "print(notes)"
   ]
  },
  {
   "cell_type": "markdown",
   "metadata": {},
   "source": [
    "We now correctly pick up the F4 fundamental, but at this strength, other resonating tones 'Ds7', 'A6' and 'C6' are equally strong in the spectrum. I'm not sure what the correct thing to do here is computationally, I think the safest thing to do is to leave the threshold high, although this example shows this leaves the possibility of misidentifying the fundamental. \n",
    "\n",
    "Now loop through the remaining audio files which don't already have notes assigned and get the results. Since we are told there are only 3 notes played in each spectrum, I will hardcode a stipulation that if the number of notes picked up is greater than 5, get_notes should be repeated with a stricter threshold limit."
   ]
  },
  {
   "cell_type": "code",
   "execution_count": 134,
   "metadata": {},
   "outputs": [
    {
     "name": "stdout",
     "output_type": "stream",
     "text": [
      "For test file : ./sound_files/8.aif the fundamental distinct notes played are :\n",
      "['F4']\n",
      "\n",
      "For test file : ./sound_files/6.aif the fundamental distinct notes played are :\n",
      "['G6', 'C5']\n",
      "\n",
      "For test file : ./sound_files/12.aif the fundamental distinct notes played are :\n",
      "['C4', 'C2', 'As4']\n",
      "\n",
      "For test file : ./sound_files/2.aif the fundamental distinct notes played are :\n",
      "['C5', 'F3']\n",
      "\n",
      "For test file : ./sound_files/3.aif the fundamental distinct notes played are :\n",
      "['A4', 'E6']\n",
      "\n",
      "For test file : ./sound_files/11.aif the fundamental distinct notes played are :\n",
      "['E2']\n",
      "\n",
      "For test file : ./sound_files/9.aif the fundamental distinct notes played are :\n",
      "['G3']\n",
      "\n",
      "For test file : ./sound_files/5.aif the fundamental distinct notes played are :\n",
      "['G2', 'D3']\n",
      "\n",
      "For test file : ./sound_files/10.aif the fundamental distinct notes played are :\n",
      "['C2', 'G3']\n",
      "\n",
      "For test file : ./sound_files/1.aif the fundamental distinct notes played are :\n",
      "['D4', 'C4', 'G4']\n",
      "\n",
      "For test file : ./sound_files/7.aif the fundamental distinct notes played are :\n",
      "['A6', 'D5']\n",
      "\n",
      "For test file : ./sound_files/4.aif the fundamental distinct notes played are :\n",
      "['C4', 'G5']\n",
      "\n"
     ]
    }
   ],
   "source": [
    "unknown_fnames = glob.glob('./sound_files/*.aif') \n",
    "fnames = glob.glob('./sound_files/*Organ.aif')\n",
    "unknown_fnames = [x for x in unknown_fnames if x not in fnames]\n",
    "\n",
    "for fname in unknown_fnames :\n",
    "    f,s = get_spec(fname)\n",
    "    notes = get_notes(f,s)\n",
    "    if len(notes) > 3 : notes = get_notes(f,s,alpha=0.75)\n",
    "    print('For test file : '+fname+' the fundamental distinct notes played are :')\n",
    "    print(notes)\n",
    "    print()"
   ]
  }
 ],
 "metadata": {
  "kernelspec": {
   "display_name": "Python 3",
   "language": "python",
   "name": "python3"
  },
  "language_info": {
   "codemirror_mode": {
    "name": "ipython",
    "version": 3
   },
   "file_extension": ".py",
   "mimetype": "text/x-python",
   "name": "python",
   "nbconvert_exporter": "python",
   "pygments_lexer": "ipython3",
   "version": "3.6.4"
  }
 },
 "nbformat": 4,
 "nbformat_minor": 1
}
